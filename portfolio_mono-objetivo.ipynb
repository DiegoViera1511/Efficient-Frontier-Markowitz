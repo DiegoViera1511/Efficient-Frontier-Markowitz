{
 "cells": [
  {
   "cell_type": "markdown",
   "metadata": {},
   "source": [
    "### Función objetivo :\n",
    "\n",
    "$$Min(\\lambda * \\sigma^2 - (1 - \\lambda) * R)$$\n",
    "\n",
    "- $R$ retorno del portafolio\n",
    "\n",
    "- $\\sigma^2$ riesgo del portafolio\n",
    "\n",
    "- $\\lambda$ es que tanto riesgo queremos asumir ( $\\lambda \\in$ \\[0, 1\\] )\n",
    "\n",
    "Veamos que si lambda es 1 pasamos a minimizar el riesgo del portafolio y si lambda es 0 passamos a maximizar el retorno portafolio."
   ]
  },
  {
   "cell_type": "code",
   "execution_count": 132,
   "metadata": {},
   "outputs": [],
   "source": [
    "import numpy as np\n",
    "import pandas as pd\n",
    "import yfinance as yf\n",
    "import cvxpy as cp\n",
    "import matplotlib.pyplot as plt"
   ]
  },
  {
   "cell_type": "code",
   "execution_count": 133,
   "metadata": {},
   "outputs": [],
   "source": [
    "\n",
    "tickers = [\"AAPL\", \"MSFT\", \"GOOGL\", \"AMZN\", \"TSLA\"]  # Activos del portafolio\n",
    "start_date = \"2015-01-01\""
   ]
  },
  {
   "cell_type": "code",
   "execution_count": 134,
   "metadata": {},
   "outputs": [
    {
     "name": "stderr",
     "output_type": "stream",
     "text": [
      "[*********************100%***********************]  5 of 5 completed\n"
     ]
    }
   ],
   "source": [
    "# Descargar precios de cierre históricos\n",
    "data = yf.download(tickers, start=start_date)[\"Close\"]"
   ]
  },
  {
   "cell_type": "code",
   "execution_count": 135,
   "metadata": {},
   "outputs": [
    {
     "data": {
      "text/plain": [
       "0.060624623841397066"
      ]
     },
     "execution_count": 135,
     "metadata": {},
     "output_type": "execute_result"
    }
   ],
   "source": [
    "\n",
    "returns = data.pct_change().dropna()  # Retornos diarios\n",
    "\n",
    "# Calcular rendimientos esperados y matriz de covarianza\n",
    "# Se multiplica por 252 para llevar a un promidio y covarianza anual \n",
    "# Dato : los días hábiles de precios en el año son 252 (muestran los precios de los activos 252 días en el año)\n",
    "mu = returns.mean().values * 252  # Rendimientos esperados anuales\n",
    "Sigma = returns.cov().values * 252  # Matriz de covarianza anualizada\n",
    "\n",
    "# Parámetro de riesgo-retorno\n",
    "lambda_ = 0.7  # Ajusta entre 0 y 1 para cambiar la tolerancia al riesgo \n",
    "#Un mayor lambda implica priorizar el riesgo y un menor lambda priorizar un mayor retorno\n",
    "\n",
    "# Variables de decisión\n",
    "n_assets = len(tickers)\n",
    "w = cp.Variable(n_assets)\n",
    "\n",
    "# Función objetivo\n",
    "objective = cp.Minimize(lambda_ * cp.quad_form(w, Sigma) - (1 - lambda_) * mu @ w)\n",
    "\n",
    "# Restricciones\n",
    "constraints = [ cp.sum(w) == 1, w >= 0 ]\n",
    "\n",
    "# Resolver el problema con cvxpy\n",
    "problem = cp.Problem(objective, constraints)\n",
    "problem.solve()"
   ]
  },
  {
   "cell_type": "code",
   "execution_count": 136,
   "metadata": {},
   "outputs": [
    {
     "data": {
      "text/html": [
       "<div>\n",
       "<style scoped>\n",
       "    .dataframe tbody tr th:only-of-type {\n",
       "        vertical-align: middle;\n",
       "    }\n",
       "\n",
       "    .dataframe tbody tr th {\n",
       "        vertical-align: top;\n",
       "    }\n",
       "\n",
       "    .dataframe thead th {\n",
       "        text-align: right;\n",
       "    }\n",
       "</style>\n",
       "<table border=\"1\" class=\"dataframe\">\n",
       "  <thead>\n",
       "    <tr style=\"text-align: right;\">\n",
       "      <th></th>\n",
       "      <th>Ticker</th>\n",
       "      <th>Peso (%)</th>\n",
       "    </tr>\n",
       "  </thead>\n",
       "  <tbody>\n",
       "    <tr>\n",
       "      <th>0</th>\n",
       "      <td>AAPL</td>\n",
       "      <td>32.0</td>\n",
       "    </tr>\n",
       "    <tr>\n",
       "      <th>1</th>\n",
       "      <td>MSFT</td>\n",
       "      <td>8.0</td>\n",
       "    </tr>\n",
       "    <tr>\n",
       "      <th>2</th>\n",
       "      <td>GOOGL</td>\n",
       "      <td>28.0</td>\n",
       "    </tr>\n",
       "    <tr>\n",
       "      <th>3</th>\n",
       "      <td>AMZN</td>\n",
       "      <td>32.0</td>\n",
       "    </tr>\n",
       "    <tr>\n",
       "      <th>4</th>\n",
       "      <td>TSLA</td>\n",
       "      <td>0.0</td>\n",
       "    </tr>\n",
       "  </tbody>\n",
       "</table>\n",
       "</div>"
      ],
      "text/plain": [
       "  Ticker  Peso (%)\n",
       "0   AAPL      32.0\n",
       "1   MSFT       8.0\n",
       "2  GOOGL      28.0\n",
       "3   AMZN      32.0\n",
       "4   TSLA       0.0"
      ]
     },
     "metadata": {},
     "output_type": "display_data"
    },
    {
     "name": "stdout",
     "output_type": "stream",
     "text": [
      "Retorno esperado: 27.0 %\n",
      "Riesgo (desviación estándar): 25.0 %\n"
     ]
    }
   ],
   "source": [
    "# Resultados\n",
    "if problem.status == cp.OPTIMAL:\n",
    "    optimal_weights = w.value\n",
    "    portfolio_return = mu @ optimal_weights\n",
    "    portfolio_risk = np.sqrt(optimal_weights.T @ Sigma @ optimal_weights)\n",
    "    optimal_weights_percent = optimal_weights * 100\n",
    "    portfolio_table = pd.DataFrame({\n",
    "        \"Ticker\": tickers,\n",
    "        \"Peso (%)\": optimal_weights_percent\n",
    "    })\n",
    "    portfolio_table[\"Peso (%)\"] = portfolio_table[\"Peso (%)\"].round(0)\n",
    "    display(portfolio_table)\n",
    "    print(f\"Retorno esperado: {(portfolio_return*100).round(0)} %\")\n",
    "    print(f\"Riesgo (desviación estándar): {(portfolio_risk*100).round(0)} %\")\n",
    "else:\n",
    "    print(\"No se encontró una solución óptima.\")"
   ]
  },
  {
   "cell_type": "code",
   "execution_count": 137,
   "metadata": {},
   "outputs": [
    {
     "data": {
      "image/png": "[encoded data removed]",
      "text/plain": [
       "<Figure size 1000x600 with 1 Axes>"
      ]
     },
     "metadata": {},
     "output_type": "display_data"
    }
   ],
   "source": [
    "#Gráfico de inversión\n",
    "plt.figure(figsize=(10, 6))\n",
    "plt.bar(tickers, optimal_weights, color='blue')\n",
    "plt.xlabel(\"Activos\")\n",
    "plt.ylabel(\"Pesos óptimos\")\n",
    "plt.title(f\"Pesos óptimos del portafolio (lambda = {lambda_})\")\n",
    "plt.show()"
   ]
  }
 ],
 "metadata": {
  "kernelspec": {
   "display_name": "base",
   "language": "python",
   "name": "python3"
  },
  "language_info": {
   "codemirror_mode": {
    "name": "ipython",
    "version": 3
   },
   "file_extension": ".py",
   "mimetype": "text/x-python",
   "name": "python",
   "nbconvert_exporter": "python",
   "pygments_lexer": "ipython3",
   "version": "3.11.8"
  }
 },
 "nbformat": 4,
 "nbformat_minor": 2
}
